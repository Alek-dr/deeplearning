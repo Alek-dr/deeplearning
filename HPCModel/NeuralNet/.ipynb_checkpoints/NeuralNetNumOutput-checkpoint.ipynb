{
 "cells": [
  {
   "cell_type": "code",
   "execution_count": 202,
   "metadata": {
    "collapsed": false
   },
   "outputs": [],
   "source": [
    "import tensorflow as tf\n",
    "import numpy as np\n",
    "import random\n",
    "import matplotlib.pyplot as plt\n",
    "\n",
    "from numpy import genfromtxt\n",
    "\n",
    "\n",
    "\n",
    "\n",
    "# # convert ndarray to tensor\n",
    "def to_tensor(arg):\n",
    "  arg = tf.convert_to_tensor(arg, dtype=tf.float32)\n",
    "  sess=tf.InteractiveSession()\n",
    "  print arg.eval()\n",
    "  return arg\n",
    "\n",
    "# Load in training and testing data\n",
    "# Shape of (record_num, col_num): (999,7)\n",
    "my_data = genfromtxt('Data/s10_s23_train_data.csv', delimiter=',')\n",
    "my_testing = genfromtxt('Data/s10_s23_test_data.csv', delimiter=',')\n",
    "\n",
    "category = 10\n",
    "factor = 5\n",
    "sim = 0.1\n",
    "\n"
   ]
  },
  {
   "cell_type": "code",
   "execution_count": 203,
   "metadata": {
    "collapsed": true
   },
   "outputs": [],
   "source": [
    "\n",
    "\n",
    "# batch function\n",
    "def my_batch(category,num,my_data):\n",
    "#     choose a num of batch return x, y as vectors\n",
    "    size,col = my_data.shape\n",
    "    idList = random.sample(range(0, size), num )\n",
    "    batch_xs = np.zeros(shape=(num,col-category))\n",
    "    batch_ys = np.zeros(shape=(num,category))\n",
    "    \n",
    "    for index,i in enumerate(idList):\n",
    "        line = my_data[i,:-category]\n",
    "        batch_xs[index]=line\n",
    "        label = my_data[i,col-category:col]\n",
    "        batch_ys[index]=label\n",
    "    return batch_xs,batch_ys\n",
    "    \n",
    "def testingDataLoader(category,my_data):\n",
    "    size,col = my_data.shape\n",
    "    \n",
    "    batch_xs = np.zeros(shape=(size,col-category))\n",
    "    batch_ys = np.zeros(shape=(size,category))\n",
    "    for index,line in enumerate(my_data):\n",
    "        batch_xs[index]=line[:-category]\n",
    "        batch_ys[index]=line[col-category:col]\n",
    "\n",
    "        \n",
    "    return batch_xs,batch_ys"
   ]
  },
  {
   "cell_type": "code",
   "execution_count": 204,
   "metadata": {
    "collapsed": false
   },
   "outputs": [],
   "source": [
    "# def compare(x, y, name=None):\n",
    "# #     sess=tf.InteractiveSession()\n",
    "# #     sess.run(x)\n",
    "# #     sess.run(y)  \n",
    "#     a = tf.reshape(x,[-1]).eval()\n",
    "#     b = tf.reshape(y,[-1]).eval()\n",
    "# #       print a\n",
    "# #       print b\n",
    "#     sum = abs(np.dot(a,b))\n",
    "#     cos = sum/(LA.norm(a)*LA.norm(b))\n",
    "# #        print \"cos\",cos\n",
    "#     return to_tensor(cos)\n",
    "\n",
    "def compare(x,y,name=None):\n",
    "#     sess=tf.InteractiveSession()\n",
    "\n",
    "    norm1= tf.sqrt(tf.reduce_sum(tf.square(x),keep_dims=True))\n",
    "    norm2= tf.sqrt(tf.reduce_sum(tf.square(y),keep_dims=True))\n",
    "    dot = tf.reduce_sum(tf.mul(x,y))\n",
    "#     print \"1\",norm1\n",
    "#     print \"2\",norm2\n",
    "#     print dot\n",
    "    cos = abs(dot)/tf.mul(norm1,norm2)\n",
    "    \n",
    "#     print \"cos\",type(cos)\n",
    "#     print \"change\",type(to_tensor(cos[0]))\n",
    "#     return tf.convert_to_tensor(cos_, dtype=tf.float32)\n",
    "    return cos\n"
   ]
  },
  {
   "cell_type": "code",
   "execution_count": 205,
   "metadata": {
    "collapsed": false
   },
   "outputs": [
    {
     "name": "stdout",
     "output_type": "stream",
     "text": [
      "y <class 'tensorflow.python.framework.ops.Tensor'>\n"
     ]
    }
   ],
   "source": [
    "# Implementation starts!\n",
    "\n",
    "# None means any number, so x is not a specific number here.\n",
    "x = tf.placeholder(tf.float32, [None, factor],name=\"x-input\")\n",
    "\n",
    "\n",
    "# In[16]:\n",
    "\n",
    "# Init weights, bias, (all zeros first) and define softmax function\n",
    "W = tf.Variable(tf.zeros([factor, category]),name=\"weights\")\n",
    "b = tf.Variable(tf.zeros([category],name=\"bias\"))\n",
    "\n",
    "# use a name scope to organize nodes in the graph visualizer\n",
    "with tf.name_scope(\"Wx_b\") as scope:\n",
    "# first multiply x and w, then add b vector. apply softmax to get probabilities\n",
    "#   y = tf.nn.softmax(tf.matmul(x, W) + b)\n",
    "    y = tf.matmul(x, W) + b\n",
    "print \"y\",type(y)\n",
    "\n",
    "# Add summary ops to collect data\n",
    "w_hist = tf.histogram_summary(\"weights\", W)\n",
    "b_hist = tf.histogram_summary(\"biases\", b)\n",
    "y_hist = tf.histogram_summary(\"y\", y)\n",
    "\n",
    "\n",
    "weights_summary = tf.histogram_summary(\"weights\", W)\n",
    "biases_summary = tf.histogram_summary(\"biases\", b)\n",
    "y_summary = tf.histogram_summary(\"y\", y)\n",
    "\n",
    "\n",
    "# In[20]:\n",
    "\n",
    "# Trainning\n",
    "y_ = tf.placeholder(tf.float32, [None, category],name=\"y-input\")\n",
    "\n",
    "with tf.name_scope(\"xent\") as scope:\n",
    "# tf.log computes logarithm of each element. \n",
    "  cross_entropy = -tf.reduce_sum(y_*tf.log(y))\n",
    "    \n",
    "with tf.name_scope(\"train\") as scope:\n",
    "# minimize cross_entropy using the gradient descent algorithm with a learning rate of 0.01. \n",
    "  train_step = tf.train.GradientDescentOptimizer(0.0001).minimize(cross_entropy)\n",
    "\n",
    "\n",
    "# In[21]:\n",
    "\n"
   ]
  },
  {
   "cell_type": "code",
   "execution_count": null,
   "metadata": {
    "collapsed": true
   },
   "outputs": [],
   "source": []
  },
  {
   "cell_type": "code",
   "execution_count": 206,
   "metadata": {
    "collapsed": false
   },
   "outputs": [],
   "source": [
    "\n",
    "\n",
    "# In[22]:\n",
    "\n",
    "\n",
    "  \n",
    "  \n",
    "init = tf.initialize_all_variables()\n",
    "\n",
    "# launch the model in a Session, run the initialized operation\n",
    "sess = tf.Session()\n",
    "sess.run(init)\n",
    "\n",
    "\n",
    "\n",
    "  \n",
    "# Merge all the summaries and write them out to /tmp/mnist_logs\n",
    "merged = tf.merge_summary([weights_summary, biases_summary, y_summary])\n",
    "writer = tf.train.SummaryWriter(\"/tmp/read2\", sess.graph_def)\n",
    "tf.train.SummaryWriter(\"/tmp/read2\", sess.graph_def).flush()\n",
    "# tf.train.SummaryWriter.flush()\n",
    "\n"
   ]
  },
  {
   "cell_type": "code",
   "execution_count": 207,
   "metadata": {
    "collapsed": false
   },
   "outputs": [],
   "source": [
    "\n",
    "with tf.name_scope(\"test\") as scope:\n",
    "# evaluation\n",
    "#   correct_prediction = tf.equal(tf.argmax(y,1), tf.argmax(y_,1))   -> [T,F,T,T...]\n",
    "#   accuracy = tf.reduce_mean(tf.cast(correct_prediction, \"float\"))\n",
    "    \n",
    "    accuracy = compare(y,y_)\n",
    "    accuracy_summary = tf.scalar_summary(\"accuracy\", accuracy)\n",
    "\n"
   ]
  },
  {
   "cell_type": "code",
   "execution_count": 208,
   "metadata": {
    "collapsed": false
   },
   "outputs": [
    {
     "name": "stdout",
     "output_type": "stream",
     "text": [
      "type  Tensor(\"Shape_907:0\", shape=TensorShape([Dimension(2)]), dtype=int32)\n",
      "value  [[ nan]]\n",
      "step 0, training accuracy nan\n",
      "type  Tensor(\"Shape_908:0\", shape=TensorShape([Dimension(2)]), dtype=int32)\n",
      "value  [[ nan]]\n",
      "step 100, training accuracy nan\n",
      "type  Tensor(\"Shape_909:0\", shape=TensorShape([Dimension(2)]), dtype=int32)\n",
      "value  [[ nan]]\n",
      "step 200, training accuracy nan\n",
      "type  Tensor(\"Shape_910:0\", shape=TensorShape([Dimension(2)]), dtype=int32)\n",
      "value  [[ nan]]\n",
      "step 300, training accuracy nan\n",
      "type  Tensor(\"Shape_911:0\", shape=TensorShape([Dimension(2)]), dtype=int32)\n",
      "value  [[ nan]]\n",
      "step 400, training accuracy nan\n",
      "type  Tensor(\"Shape_912:0\", shape=TensorShape([Dimension(2)]), dtype=int32)\n",
      "value  [[ nan]]\n",
      "step 500, training accuracy nan\n",
      "type  Tensor(\"Shape_913:0\", shape=TensorShape([Dimension(2)]), dtype=int32)\n",
      "value  [[ nan]]\n",
      "step 600, training accuracy nan\n",
      "type  Tensor(\"Shape_914:0\", shape=TensorShape([Dimension(2)]), dtype=int32)\n",
      "value  [[ nan]]\n",
      "step 700, training accuracy nan\n",
      "type  Tensor(\"Shape_915:0\", shape=TensorShape([Dimension(2)]), dtype=int32)\n",
      "value  [[ nan]]\n",
      "step 800, training accuracy nan\n",
      "type  Tensor(\"Shape_916:0\", shape=TensorShape([Dimension(2)]), dtype=int32)\n",
      "value  [[ nan]]\n",
      "step 900, training accuracy nan\n",
      "type  Tensor(\"Shape_917:0\", shape=TensorShape([Dimension(2)]), dtype=int32)\n",
      "value  [[ nan]]\n",
      "step 1000, training accuracy nan\n",
      "type  Tensor(\"Shape_918:0\", shape=TensorShape([Dimension(2)]), dtype=int32)\n",
      "value  [[ nan]]\n",
      "step 1100, training accuracy nan\n",
      "type  Tensor(\"Shape_919:0\", shape=TensorShape([Dimension(2)]), dtype=int32)\n",
      "value  [[ nan]]\n",
      "step 1200, training accuracy nan\n",
      "type  Tensor(\"Shape_920:0\", shape=TensorShape([Dimension(2)]), dtype=int32)\n",
      "value  [[ nan]]\n",
      "step 1300, training accuracy nan\n",
      "type  Tensor(\"Shape_921:0\", shape=TensorShape([Dimension(2)]), dtype=int32)\n",
      "value  [[ nan]]\n",
      "step 1400, training accuracy nan\n",
      "type  Tensor(\"Shape_922:0\", shape=TensorShape([Dimension(2)]), dtype=int32)\n",
      "value  [[ nan]]\n",
      "step 1500, training accuracy nan\n",
      "type  Tensor(\"Shape_923:0\", shape=TensorShape([Dimension(2)]), dtype=int32)\n",
      "value  [[ nan]]\n",
      "step 1600, training accuracy nan\n",
      "type  Tensor(\"Shape_924:0\", shape=TensorShape([Dimension(2)]), dtype=int32)\n",
      "value  [[ nan]]\n",
      "step 1700, training accuracy nan\n",
      "type  Tensor(\"Shape_925:0\", shape=TensorShape([Dimension(2)]), dtype=int32)\n",
      "value  [[ nan]]\n",
      "step 1800, training accuracy nan\n",
      "type  Tensor(\"Shape_926:0\", shape=TensorShape([Dimension(2)]), dtype=int32)\n",
      "value  [[ nan]]\n",
      "step 1900, training accuracy nan\n",
      "type  Tensor(\"Shape_927:0\", shape=TensorShape([Dimension(2)]), dtype=int32)\n",
      "value  [[ nan]]\n",
      "step 2000, training accuracy nan\n",
      "type  Tensor(\"Shape_928:0\", shape=TensorShape([Dimension(2)]), dtype=int32)\n",
      "value  [[ nan]]\n",
      "step 2100, training accuracy nan\n",
      "type  Tensor(\"Shape_929:0\", shape=TensorShape([Dimension(2)]), dtype=int32)\n",
      "value  [[ nan]]\n",
      "step 2200, training accuracy nan\n",
      "type  Tensor(\"Shape_930:0\", shape=TensorShape([Dimension(2)]), dtype=int32)\n",
      "value  [[ nan]]\n",
      "step 2300, training accuracy nan\n",
      "type  Tensor(\"Shape_931:0\", shape=TensorShape([Dimension(2)]), dtype=int32)\n",
      "value  [[ nan]]\n",
      "step 2400, training accuracy nan\n",
      "type  Tensor(\"Shape_932:0\", shape=TensorShape([Dimension(2)]), dtype=int32)\n",
      "value  [[ nan]]\n",
      "step 2500, training accuracy nan\n",
      "type  Tensor(\"Shape_933:0\", shape=TensorShape([Dimension(2)]), dtype=int32)\n",
      "value  [[ nan]]\n",
      "step 2600, training accuracy nan\n"
     ]
    },
    {
     "ename": "KeyboardInterrupt",
     "evalue": "",
     "output_type": "error",
     "traceback": [
      "\u001b[0;31m---------------------------------------------------------------------------\u001b[0m",
      "\u001b[0;31mKeyboardInterrupt\u001b[0m                         Traceback (most recent call last)",
      "\u001b[0;32m<ipython-input-208-51a3d46e82dd>\u001b[0m in \u001b[0;36m<module>\u001b[0;34m()\u001b[0m\n\u001b[1;32m     16\u001b[0m \u001b[0;34m\u001b[0m\u001b[0m\n\u001b[1;32m     17\u001b[0m \u001b[0;34m\u001b[0m\u001b[0m\n\u001b[0;32m---> 18\u001b[0;31m   \u001b[0mbatch_xs\u001b[0m\u001b[0;34m,\u001b[0m \u001b[0mbatch_ys\u001b[0m \u001b[0;34m=\u001b[0m \u001b[0mmy_batch\u001b[0m\u001b[0;34m(\u001b[0m\u001b[0mcategory\u001b[0m\u001b[0;34m,\u001b[0m\u001b[0;36m100\u001b[0m\u001b[0;34m,\u001b[0m \u001b[0mmy_data\u001b[0m\u001b[0;34m)\u001b[0m\u001b[0;34m\u001b[0m\u001b[0m\n\u001b[0m\u001b[1;32m     19\u001b[0m   \u001b[0mfeed\u001b[0m \u001b[0;34m=\u001b[0m \u001b[0;34m{\u001b[0m\u001b[0mx\u001b[0m\u001b[0;34m:\u001b[0m \u001b[0mbatch_xs\u001b[0m\u001b[0;34m,\u001b[0m \u001b[0my_\u001b[0m\u001b[0;34m:\u001b[0m \u001b[0mbatch_ys\u001b[0m\u001b[0;34m}\u001b[0m\u001b[0;34m\u001b[0m\u001b[0m\n\u001b[1;32m     20\u001b[0m \u001b[0;34m\u001b[0m\u001b[0m\n",
      "\u001b[0;32m<ipython-input-203-71cc1373ceae>\u001b[0m in \u001b[0;36mmy_batch\u001b[0;34m(category, num, my_data)\u001b[0m\n\u001b[1;32m      5\u001b[0m \u001b[0;31m#     choose a num of batch return x, y as vectors\u001b[0m\u001b[0;34m\u001b[0m\u001b[0;34m\u001b[0m\u001b[0m\n\u001b[1;32m      6\u001b[0m     \u001b[0msize\u001b[0m\u001b[0;34m,\u001b[0m\u001b[0mcol\u001b[0m \u001b[0;34m=\u001b[0m \u001b[0mmy_data\u001b[0m\u001b[0;34m.\u001b[0m\u001b[0mshape\u001b[0m\u001b[0;34m\u001b[0m\u001b[0m\n\u001b[0;32m----> 7\u001b[0;31m     \u001b[0midList\u001b[0m \u001b[0;34m=\u001b[0m \u001b[0mrandom\u001b[0m\u001b[0;34m.\u001b[0m\u001b[0msample\u001b[0m\u001b[0;34m(\u001b[0m\u001b[0mrange\u001b[0m\u001b[0;34m(\u001b[0m\u001b[0;36m0\u001b[0m\u001b[0;34m,\u001b[0m \u001b[0msize\u001b[0m\u001b[0;34m)\u001b[0m\u001b[0;34m,\u001b[0m \u001b[0mnum\u001b[0m \u001b[0;34m)\u001b[0m\u001b[0;34m\u001b[0m\u001b[0m\n\u001b[0m\u001b[1;32m      8\u001b[0m     \u001b[0mbatch_xs\u001b[0m \u001b[0;34m=\u001b[0m \u001b[0mnp\u001b[0m\u001b[0;34m.\u001b[0m\u001b[0mzeros\u001b[0m\u001b[0;34m(\u001b[0m\u001b[0mshape\u001b[0m\u001b[0;34m=\u001b[0m\u001b[0;34m(\u001b[0m\u001b[0mnum\u001b[0m\u001b[0;34m,\u001b[0m\u001b[0mcol\u001b[0m\u001b[0;34m-\u001b[0m\u001b[0mcategory\u001b[0m\u001b[0;34m)\u001b[0m\u001b[0;34m)\u001b[0m\u001b[0;34m\u001b[0m\u001b[0m\n\u001b[1;32m      9\u001b[0m     \u001b[0mbatch_ys\u001b[0m \u001b[0;34m=\u001b[0m \u001b[0mnp\u001b[0m\u001b[0;34m.\u001b[0m\u001b[0mzeros\u001b[0m\u001b[0;34m(\u001b[0m\u001b[0mshape\u001b[0m\u001b[0;34m=\u001b[0m\u001b[0;34m(\u001b[0m\u001b[0mnum\u001b[0m\u001b[0;34m,\u001b[0m\u001b[0mcategory\u001b[0m\u001b[0;34m)\u001b[0m\u001b[0;34m)\u001b[0m\u001b[0;34m\u001b[0m\u001b[0m\n",
      "\u001b[0;32m/System/Library/Frameworks/Python.framework/Versions/2.7/lib/python2.7/random.pyc\u001b[0m in \u001b[0;36msample\u001b[0;34m(self, population, k)\u001b[0m\n\u001b[1;32m    330\u001b[0m             \u001b[0mpool\u001b[0m \u001b[0;34m=\u001b[0m \u001b[0mlist\u001b[0m\u001b[0;34m(\u001b[0m\u001b[0mpopulation\u001b[0m\u001b[0;34m)\u001b[0m\u001b[0;34m\u001b[0m\u001b[0m\n\u001b[1;32m    331\u001b[0m             \u001b[0;32mfor\u001b[0m \u001b[0mi\u001b[0m \u001b[0;32min\u001b[0m \u001b[0mxrange\u001b[0m\u001b[0;34m(\u001b[0m\u001b[0mk\u001b[0m\u001b[0;34m)\u001b[0m\u001b[0;34m:\u001b[0m         \u001b[0;31m# invariant:  non-selected at [0,n-i)\u001b[0m\u001b[0;34m\u001b[0m\u001b[0m\n\u001b[0;32m--> 332\u001b[0;31m                 \u001b[0mj\u001b[0m \u001b[0;34m=\u001b[0m \u001b[0m_int\u001b[0m\u001b[0;34m(\u001b[0m\u001b[0mrandom\u001b[0m\u001b[0;34m(\u001b[0m\u001b[0;34m)\u001b[0m \u001b[0;34m*\u001b[0m \u001b[0;34m(\u001b[0m\u001b[0mn\u001b[0m\u001b[0;34m-\u001b[0m\u001b[0mi\u001b[0m\u001b[0;34m)\u001b[0m\u001b[0;34m)\u001b[0m\u001b[0;34m\u001b[0m\u001b[0m\n\u001b[0m\u001b[1;32m    333\u001b[0m                 \u001b[0mresult\u001b[0m\u001b[0;34m[\u001b[0m\u001b[0mi\u001b[0m\u001b[0;34m]\u001b[0m \u001b[0;34m=\u001b[0m \u001b[0mpool\u001b[0m\u001b[0;34m[\u001b[0m\u001b[0mj\u001b[0m\u001b[0;34m]\u001b[0m\u001b[0;34m\u001b[0m\u001b[0m\n\u001b[1;32m    334\u001b[0m                 \u001b[0mpool\u001b[0m\u001b[0;34m[\u001b[0m\u001b[0mj\u001b[0m\u001b[0;34m]\u001b[0m \u001b[0;34m=\u001b[0m \u001b[0mpool\u001b[0m\u001b[0;34m[\u001b[0m\u001b[0mn\u001b[0m\u001b[0;34m-\u001b[0m\u001b[0mi\u001b[0m\u001b[0;34m-\u001b[0m\u001b[0;36m1\u001b[0m\u001b[0;34m]\u001b[0m   \u001b[0;31m# move non-selected item into vacancy\u001b[0m\u001b[0;34m\u001b[0m\u001b[0m\n",
      "\u001b[0;31mKeyboardInterrupt\u001b[0m: "
     ]
    }
   ],
   "source": [
    "\n",
    "\n",
    "\n",
    "\n",
    "\n",
    "\n",
    "\n",
    "# get testing data\n",
    "test_xs,test_ys = testingDataLoader(category,my_testing)\n",
    "\n",
    "\n",
    "# Train for 1000 times!\n",
    "# batch of 100 at each time\n",
    "# train_step feeding in the batches data to replace the placeholders\n",
    "for i in range(10000):\n",
    "\n",
    "\n",
    "  batch_xs, batch_ys = my_batch(category,100, my_data)\n",
    "  feed = {x: batch_xs, y_: batch_ys}\n",
    "\n",
    "  if i%100 == 0:\n",
    "    train_accuracy = accuracy.eval(session=sess, feed_dict=feed)\n",
    "    print \"type \",tf.shape(accuracy)\n",
    "    print \"value \", train_accuracy\n",
    "    print \"step %d, training accuracy %g\"%(i, train_accuracy)\n",
    "  train_step.run(session=sess, feed_dict=feed)\n",
    "\n",
    "\n",
    "#     batch_xs, batch_ys = my_batch(category,100, my_data)\n",
    "#     feed = {x: batch_xs, y_: batch_ys}\n",
    "#     sess.run(train_step, feed_dict=feed)\n",
    "\n",
    "\n"
   ]
  },
  {
   "cell_type": "code",
   "execution_count": null,
   "metadata": {
    "collapsed": true
   },
   "outputs": [],
   "source": []
  },
  {
   "cell_type": "code",
   "execution_count": null,
   "metadata": {
    "collapsed": false
   },
   "outputs": [],
   "source": [
    "\n",
    "  \n",
    "    \n",
    "# test_xs,test_ys = testingDataLoader(category,my_testing)\n",
    "print sess.run(accuracy, feed_dict={x: test_xs, y_: test_ys})\n"
   ]
  },
  {
   "cell_type": "code",
   "execution_count": null,
   "metadata": {
    "collapsed": false
   },
   "outputs": [],
   "source": [
    "\n"
   ]
  },
  {
   "cell_type": "code",
   "execution_count": null,
   "metadata": {
    "collapsed": true
   },
   "outputs": [],
   "source": []
  },
  {
   "cell_type": "code",
   "execution_count": null,
   "metadata": {
    "collapsed": true
   },
   "outputs": [],
   "source": []
  }
 ],
 "metadata": {
  "kernelspec": {
   "display_name": "Python 2",
   "language": "python",
   "name": "python2"
  },
  "language_info": {
   "codemirror_mode": {
    "name": "ipython",
    "version": 2
   },
   "file_extension": ".py",
   "mimetype": "text/x-python",
   "name": "python",
   "nbconvert_exporter": "python",
   "pygments_lexer": "ipython2",
   "version": "2.7.5"
  }
 },
 "nbformat": 4,
 "nbformat_minor": 0
}
