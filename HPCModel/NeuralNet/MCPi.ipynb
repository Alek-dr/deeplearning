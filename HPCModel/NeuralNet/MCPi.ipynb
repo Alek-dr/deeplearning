{
 "cells": [
  {
   "cell_type": "code",
   "execution_count": 6,
   "metadata": {
    "collapsed": false
   },
   "outputs": [
    {
     "name": "stdout",
     "output_type": "stream",
     "text": [
      "Pi 3.1422024\n"
     ]
    }
   ],
   "source": [
    "import math\n",
    "import random\n",
    "\n",
    "\n",
    "random.seed()\n",
    "\n",
    "n = 10000000\n",
    "\n",
    "dots = 0.\n",
    "for i in range(n):\n",
    "    x = random.random()\n",
    "    y = random.random()\n",
    "    z = (x,y)\n",
    "\n",
    "    if x**2+y**2 <= 1:\n",
    "#         print z\n",
    "        dots += 1\n",
    "    else:\n",
    "        del z\n",
    "        \n",
    "print \"Pi\", 4*dots/n"
   ]
  },
  {
   "cell_type": "code",
   "execution_count": null,
   "metadata": {
    "collapsed": true
   },
   "outputs": [],
   "source": []
  },
  {
   "cell_type": "code",
   "execution_count": null,
   "metadata": {
    "collapsed": true
   },
   "outputs": [],
   "source": []
  }
 ],
 "metadata": {
  "kernelspec": {
   "display_name": "Python 2",
   "language": "python",
   "name": "python2"
  },
  "language_info": {
   "codemirror_mode": {
    "name": "ipython",
    "version": 2
   },
   "file_extension": ".py",
   "mimetype": "text/x-python",
   "name": "python",
   "nbconvert_exporter": "python",
   "pygments_lexer": "ipython2",
   "version": "2.7.5"
  }
 },
 "nbformat": 4,
 "nbformat_minor": 0
}
